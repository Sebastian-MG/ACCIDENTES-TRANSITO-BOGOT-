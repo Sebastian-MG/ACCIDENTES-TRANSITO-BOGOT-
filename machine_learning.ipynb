{
 "cells": [
  {
   "cell_type": "code",
   "execution_count": 127,
   "metadata": {
    "collapsed": true
   },
   "outputs": [],
   "source": [
    "import pandas as pd\n",
    "import numpy as np\n",
    "from sklearn import linear_model\n",
    "from sklearn import model_selection\n",
    "from sklearn.metrics import classification_report\n",
    "from sklearn.metrics import confusion_matrix\n",
    "from sklearn.metrics import accuracy_score\n",
    "import matplotlib.pyplot as plt\n",
    "import seaborn as sb\n",
    "from sklearn.preprocessing import OrdinalEncoder\n",
    "from sklearn.preprocessing import LabelEncoder\n",
    "from sklearn.model_selection import train_test_split"
   ]
  },
  {
   "cell_type": "code",
   "execution_count": 128,
   "outputs": [
    {
     "data": {
      "text/plain": "   CODIGO_SINIESTRO       FECHA      HORA     GRAVEDAD        CLASE  \\\n0           4401423  01/01/2015  09:45:00  Con Heridos       Choque   \n1           4401425  01/01/2015  13:25:00   Solo Daños       Choque   \n2           4401430  01/01/2015  07:15:00  Con Heridos  Volcamiento   \n3           4401433  01/01/2015  20:30:00   Solo Daños       Choque   \n4           4401437  01/01/2015  12:50:00   Solo Daños       Choque   \n\n  CHOQUE_CON OBJETO_FIJO          DIRECCION  TOTAL_MUERTOS  TOTAL_HERIDOS  \\\n0   Vehiculo         NaN    CL 66A-KR 76 02              0              2   \n1   Vehiculo         NaN  CL 143A-KR 142 02              0              0   \n2        NaN         NaN  KR 19D-CL 62 S 02              0              1   \n3   Vehiculo         NaN      AK 7-CL 43 33              0              0   \n4   Vehiculo         NaN   DG 77A-AK 18D 02              0              0   \n\n        LOCALIDAD  DISENO_LUGAR  \n0        Engativá  Interseccion  \n1            Suba  Tramo de Via  \n2  Ciudad Bolívar  Tramo de Via  \n3       Chapinero  Tramo de Via  \n4  Ciudad Bolívar  Tramo de Via  ",
      "text/html": "<div>\n<style scoped>\n    .dataframe tbody tr th:only-of-type {\n        vertical-align: middle;\n    }\n\n    .dataframe tbody tr th {\n        vertical-align: top;\n    }\n\n    .dataframe thead th {\n        text-align: right;\n    }\n</style>\n<table border=\"1\" class=\"dataframe\">\n  <thead>\n    <tr style=\"text-align: right;\">\n      <th></th>\n      <th>CODIGO_SINIESTRO</th>\n      <th>FECHA</th>\n      <th>HORA</th>\n      <th>GRAVEDAD</th>\n      <th>CLASE</th>\n      <th>CHOQUE_CON</th>\n      <th>OBJETO_FIJO</th>\n      <th>DIRECCION</th>\n      <th>TOTAL_MUERTOS</th>\n      <th>TOTAL_HERIDOS</th>\n      <th>LOCALIDAD</th>\n      <th>DISENO_LUGAR</th>\n    </tr>\n  </thead>\n  <tbody>\n    <tr>\n      <th>0</th>\n      <td>4401423</td>\n      <td>01/01/2015</td>\n      <td>09:45:00</td>\n      <td>Con Heridos</td>\n      <td>Choque</td>\n      <td>Vehiculo</td>\n      <td>NaN</td>\n      <td>CL 66A-KR 76 02</td>\n      <td>0</td>\n      <td>2</td>\n      <td>Engativá</td>\n      <td>Interseccion</td>\n    </tr>\n    <tr>\n      <th>1</th>\n      <td>4401425</td>\n      <td>01/01/2015</td>\n      <td>13:25:00</td>\n      <td>Solo Daños</td>\n      <td>Choque</td>\n      <td>Vehiculo</td>\n      <td>NaN</td>\n      <td>CL 143A-KR 142 02</td>\n      <td>0</td>\n      <td>0</td>\n      <td>Suba</td>\n      <td>Tramo de Via</td>\n    </tr>\n    <tr>\n      <th>2</th>\n      <td>4401430</td>\n      <td>01/01/2015</td>\n      <td>07:15:00</td>\n      <td>Con Heridos</td>\n      <td>Volcamiento</td>\n      <td>NaN</td>\n      <td>NaN</td>\n      <td>KR 19D-CL 62 S 02</td>\n      <td>0</td>\n      <td>1</td>\n      <td>Ciudad Bolívar</td>\n      <td>Tramo de Via</td>\n    </tr>\n    <tr>\n      <th>3</th>\n      <td>4401433</td>\n      <td>01/01/2015</td>\n      <td>20:30:00</td>\n      <td>Solo Daños</td>\n      <td>Choque</td>\n      <td>Vehiculo</td>\n      <td>NaN</td>\n      <td>AK 7-CL 43 33</td>\n      <td>0</td>\n      <td>0</td>\n      <td>Chapinero</td>\n      <td>Tramo de Via</td>\n    </tr>\n    <tr>\n      <th>4</th>\n      <td>4401437</td>\n      <td>01/01/2015</td>\n      <td>12:50:00</td>\n      <td>Solo Daños</td>\n      <td>Choque</td>\n      <td>Vehiculo</td>\n      <td>NaN</td>\n      <td>DG 77A-AK 18D 02</td>\n      <td>0</td>\n      <td>0</td>\n      <td>Ciudad Bolívar</td>\n      <td>Tramo de Via</td>\n    </tr>\n  </tbody>\n</table>\n</div>"
     },
     "execution_count": 128,
     "metadata": {},
     "output_type": "execute_result"
    }
   ],
   "source": [
    "# predecir la gravedad de un accidente\n",
    "#\n",
    "\n",
    "datos_siniestros = pd.read_excel(\"2015_2019_siniestralidad_vial.xlsx\", sheet_name=\"SINIESTROS\")\n",
    "datos_siniestros.head()\n",
    "\n",
    "\n"
   ],
   "metadata": {
    "collapsed": false,
    "pycharm": {
     "name": "#%%\n"
    }
   }
  },
  {
   "cell_type": "markdown",
   "source": [
    "Prediccion: Gravedad"
   ],
   "metadata": {
    "collapsed": false
   }
  },
  {
   "cell_type": "code",
   "execution_count": 129,
   "outputs": [],
   "source": [
    "# se recorren la columna Gravedad, al encontrar solo daños, no será de gravedad, en caso de tener heridos o muertos serlo si lo será\n",
    "datos_siniestros['GRAVEDAD'] = datos_siniestros['GRAVEDAD'].map({'Solo Daños': 0, 'Con Heridos': 1 , \"Con Muertos\": 1})"
   ],
   "metadata": {
    "collapsed": false,
    "pycharm": {
     "name": "#%%\n"
    }
   }
  },
  {
   "cell_type": "code",
   "execution_count": 130,
   "outputs": [
    {
     "data": {
      "text/plain": "0    1\n1    0\n2    1\n3    0\n4    0\nName: GRAVEDAD, dtype: int64"
     },
     "execution_count": 130,
     "metadata": {},
     "output_type": "execute_result"
    }
   ],
   "source": [
    "datos_siniestros[\"GRAVEDAD\"].head()"
   ],
   "metadata": {
    "collapsed": false,
    "pycharm": {
     "name": "#%%\n"
    }
   }
  },
  {
   "cell_type": "markdown",
   "source": [
    "Variables Independientes: Diseño Lugar, Localidad, ChoqueCon, Clase\n",
    "Variable Dependiente: Gravedad"
   ],
   "metadata": {
    "collapsed": false,
    "pycharm": {
     "name": "#%% md\n"
    }
   }
  },
  {
   "cell_type": "code",
   "source": [
    "# se crea el dataframe para predecir\n",
    "predicciónGravedad = datos_siniestros.filter([\"DISENO_LUGAR\",\"LOCALIDAD\",\"CLASE\",\"CHOQUE_CON\",\"GRAVEDAD\"],axis = 1)\n",
    "predicciónGravedad.head()"
   ],
   "metadata": {
    "collapsed": false,
    "pycharm": {
     "name": "#%%\n"
    }
   },
   "execution_count": 131,
   "outputs": [
    {
     "data": {
      "text/plain": "   DISENO_LUGAR       LOCALIDAD        CLASE CHOQUE_CON  GRAVEDAD\n0  Interseccion        Engativá       Choque   Vehiculo         1\n1  Tramo de Via            Suba       Choque   Vehiculo         0\n2  Tramo de Via  Ciudad Bolívar  Volcamiento        NaN         1\n3  Tramo de Via       Chapinero       Choque   Vehiculo         0\n4  Tramo de Via  Ciudad Bolívar       Choque   Vehiculo         0",
      "text/html": "<div>\n<style scoped>\n    .dataframe tbody tr th:only-of-type {\n        vertical-align: middle;\n    }\n\n    .dataframe tbody tr th {\n        vertical-align: top;\n    }\n\n    .dataframe thead th {\n        text-align: right;\n    }\n</style>\n<table border=\"1\" class=\"dataframe\">\n  <thead>\n    <tr style=\"text-align: right;\">\n      <th></th>\n      <th>DISENO_LUGAR</th>\n      <th>LOCALIDAD</th>\n      <th>CLASE</th>\n      <th>CHOQUE_CON</th>\n      <th>GRAVEDAD</th>\n    </tr>\n  </thead>\n  <tbody>\n    <tr>\n      <th>0</th>\n      <td>Interseccion</td>\n      <td>Engativá</td>\n      <td>Choque</td>\n      <td>Vehiculo</td>\n      <td>1</td>\n    </tr>\n    <tr>\n      <th>1</th>\n      <td>Tramo de Via</td>\n      <td>Suba</td>\n      <td>Choque</td>\n      <td>Vehiculo</td>\n      <td>0</td>\n    </tr>\n    <tr>\n      <th>2</th>\n      <td>Tramo de Via</td>\n      <td>Ciudad Bolívar</td>\n      <td>Volcamiento</td>\n      <td>NaN</td>\n      <td>1</td>\n    </tr>\n    <tr>\n      <th>3</th>\n      <td>Tramo de Via</td>\n      <td>Chapinero</td>\n      <td>Choque</td>\n      <td>Vehiculo</td>\n      <td>0</td>\n    </tr>\n    <tr>\n      <th>4</th>\n      <td>Tramo de Via</td>\n      <td>Ciudad Bolívar</td>\n      <td>Choque</td>\n      <td>Vehiculo</td>\n      <td>0</td>\n    </tr>\n  </tbody>\n</table>\n</div>"
     },
     "execution_count": 131,
     "metadata": {},
     "output_type": "execute_result"
    }
   ]
  },
  {
   "cell_type": "code",
   "execution_count": 132,
   "outputs": [],
   "source": [
    "# Se convierten variables categoricas a variable numerica ordinal\n",
    "predicciónGravedad[\"DISENO_LUGAR\"] = predicciónGravedad[\"DISENO_LUGAR\"].astype('category')\n",
    "predicciónGravedad[\"DISENO_LUGAR\"] = predicciónGravedad[\"DISENO_LUGAR\"].cat.codes\n",
    "predicciónGravedad[\"LOCALIDAD\"] = predicciónGravedad[\"LOCALIDAD\"].astype('category')\n",
    "predicciónGravedad[\"LOCALIDAD\"] = predicciónGravedad[\"LOCALIDAD\"].cat.codes\n",
    "predicciónGravedad[\"CLASE\"] = predicciónGravedad[\"CLASE\"].astype('category')\n",
    "predicciónGravedad[\"CLASE\"] = predicciónGravedad[\"CLASE\"].cat.codes\n",
    "predicciónGravedad[\"CHOQUE_CON\"] = predicciónGravedad[\"CHOQUE_CON\"].astype('category')\n",
    "predicciónGravedad[\"CHOQUE_CON\"] = predicciónGravedad[\"CHOQUE_CON\"].cat.codes"
   ],
   "metadata": {
    "collapsed": false,
    "pycharm": {
     "name": "#%%\n"
    }
   }
  },
  {
   "cell_type": "code",
   "execution_count": 133,
   "outputs": [
    {
     "data": {
      "text/plain": "   DISENO_LUGAR  LOCALIDAD  CLASE  CHOQUE_CON  GRAVEDAD\n0             2          5      3           3         1\n1             9         14      3           3         0\n2             9          4      6          -1         1\n3             9          3      3           3         0\n4             9          4      3           3         0",
      "text/html": "<div>\n<style scoped>\n    .dataframe tbody tr th:only-of-type {\n        vertical-align: middle;\n    }\n\n    .dataframe tbody tr th {\n        vertical-align: top;\n    }\n\n    .dataframe thead th {\n        text-align: right;\n    }\n</style>\n<table border=\"1\" class=\"dataframe\">\n  <thead>\n    <tr style=\"text-align: right;\">\n      <th></th>\n      <th>DISENO_LUGAR</th>\n      <th>LOCALIDAD</th>\n      <th>CLASE</th>\n      <th>CHOQUE_CON</th>\n      <th>GRAVEDAD</th>\n    </tr>\n  </thead>\n  <tbody>\n    <tr>\n      <th>0</th>\n      <td>2</td>\n      <td>5</td>\n      <td>3</td>\n      <td>3</td>\n      <td>1</td>\n    </tr>\n    <tr>\n      <th>1</th>\n      <td>9</td>\n      <td>14</td>\n      <td>3</td>\n      <td>3</td>\n      <td>0</td>\n    </tr>\n    <tr>\n      <th>2</th>\n      <td>9</td>\n      <td>4</td>\n      <td>6</td>\n      <td>-1</td>\n      <td>1</td>\n    </tr>\n    <tr>\n      <th>3</th>\n      <td>9</td>\n      <td>3</td>\n      <td>3</td>\n      <td>3</td>\n      <td>0</td>\n    </tr>\n    <tr>\n      <th>4</th>\n      <td>9</td>\n      <td>4</td>\n      <td>3</td>\n      <td>3</td>\n      <td>0</td>\n    </tr>\n  </tbody>\n</table>\n</div>"
     },
     "execution_count": 133,
     "metadata": {},
     "output_type": "execute_result"
    }
   ],
   "source": [
    "predicciónGravedad.head()"
   ],
   "metadata": {
    "collapsed": false,
    "pycharm": {
     "name": "#%%\n"
    }
   }
  },
  {
   "cell_type": "code",
   "execution_count": 134,
   "outputs": [],
   "source": [
    "#Se escoge x como todas las columnas excepto la objetivo\n",
    "X = np.array(predicciónGravedad.drop(['GRAVEDAD'],1))\n",
    "# variable objetivo\n",
    "y = np.array(predicciónGravedad['GRAVEDAD'])\n"
   ],
   "metadata": {
    "collapsed": false,
    "pycharm": {
     "name": "#%%\n"
    }
   }
  },
  {
   "cell_type": "code",
   "execution_count": 135,
   "outputs": [
    {
     "data": {
      "text/plain": "LogisticRegression()"
     },
     "execution_count": 135,
     "metadata": {},
     "output_type": "execute_result"
    }
   ],
   "source": [
    "#MODELO DE LA REGRESION LOGISTICA\n",
    "\n",
    "model = linear_model.LogisticRegression()\n",
    "model.fit(X,y)\n"
   ],
   "metadata": {
    "collapsed": false,
    "pycharm": {
     "name": "#%%\n"
    }
   }
  },
  {
   "cell_type": "code",
   "execution_count": 136,
   "outputs": [
    {
     "name": "stdout",
     "output_type": "stream",
     "text": [
      "[0 0 1 ... 1 1 0]\n"
     ]
    }
   ],
   "source": [
    "predictions = model.predict(X)\n",
    "print(predictions)"
   ],
   "metadata": {
    "collapsed": false,
    "pycharm": {
     "name": "#%%\n"
    }
   }
  },
  {
   "cell_type": "code",
   "execution_count": 137,
   "outputs": [
    {
     "data": {
      "text/plain": "0.7812826115784436"
     },
     "execution_count": 137,
     "metadata": {},
     "output_type": "execute_result"
    }
   ],
   "source": [
    "model.score(X,y)"
   ],
   "metadata": {
    "collapsed": false,
    "pycharm": {
     "name": "#%%\n"
    }
   }
  },
  {
   "cell_type": "code",
   "execution_count": 138,
   "outputs": [],
   "source": [
    "validation_size = 0.20\n",
    "seed = 7\n",
    "X_train, X_validation, Y_train, Y_validation = model_selection.train_test_split(X, y, test_size=validation_size, random_state=seed)\n",
    "\n"
   ],
   "metadata": {
    "collapsed": false,
    "pycharm": {
     "name": "#%%\n"
    }
   }
  },
  {
   "cell_type": "code",
   "execution_count": 139,
   "outputs": [
    {
     "name": "stdout",
     "output_type": "stream",
     "text": [
      "Logistic Regression: 0.781188 (0.003436)\n"
     ]
    }
   ],
   "source": [
    "name='Logistic Regression'\n",
    "kfold = model_selection.KFold(n_splits=10, random_state=seed,shuffle=True)\n",
    "cv_results = model_selection.cross_val_score(model, X_train, Y_train, cv=kfold, scoring='accuracy')\n",
    "msg = \"%s: %f (%f)\" % (name, cv_results.mean(), cv_results.std())\n",
    "print(msg)\n"
   ],
   "metadata": {
    "collapsed": false,
    "pycharm": {
     "name": "#%%\n"
    }
   }
  },
  {
   "cell_type": "code",
   "execution_count": 140,
   "outputs": [
    {
     "name": "stdout",
     "output_type": "stream",
     "text": [
      "0.7802185130733086\n"
     ]
    }
   ],
   "source": [
    "predictions = model.predict(X_validation)\n",
    "print(accuracy_score(Y_validation, predictions))\n",
    "\n"
   ],
   "metadata": {
    "collapsed": false,
    "pycharm": {
     "name": "#%%\n"
    }
   }
  },
  {
   "cell_type": "code",
   "execution_count": 141,
   "outputs": [
    {
     "name": "stdout",
     "output_type": "stream",
     "text": [
      "[[21838   919]\n",
      " [ 6705  5227]]\n"
     ]
    }
   ],
   "source": [
    "print(confusion_matrix(Y_validation, predictions))\n"
   ],
   "metadata": {
    "collapsed": false,
    "pycharm": {
     "name": "#%%\n"
    }
   }
  },
  {
   "cell_type": "code",
   "execution_count": 142,
   "outputs": [
    {
     "name": "stdout",
     "output_type": "stream",
     "text": [
      "              precision    recall  f1-score   support\n",
      "\n",
      "           0       0.77      0.96      0.85     22757\n",
      "           1       0.85      0.44      0.58     11932\n",
      "\n",
      "    accuracy                           0.78     34689\n",
      "   macro avg       0.81      0.70      0.71     34689\n",
      "weighted avg       0.79      0.78      0.76     34689\n",
      "\n"
     ]
    }
   ],
   "source": [
    "print(classification_report(Y_validation, predictions))\n"
   ],
   "metadata": {
    "collapsed": false,
    "pycharm": {
     "name": "#%%\n"
    }
   }
  },
  {
   "cell_type": "code",
   "execution_count": 143,
   "outputs": [
    {
     "data": {
      "text/plain": "array([0], dtype=int64)"
     },
     "execution_count": 143,
     "metadata": {},
     "output_type": "execute_result"
    }
   ],
   "source": [
    "#prediccion\n",
    "#localidad = 5 Engativa\n",
    "#Diseño Lugar = 2 Interseccion\n",
    "#Clase = 3 Choque\n",
    "#Choque con = 4 Vehiculo\n",
    "X_new = pd.DataFrame({'DISEÑO_LUGAR': [5], 'LOCALIDAD': [2], 'CLASE': [3], 'CHOQUE_CON': [4]})\n",
    "model.predict(X_new)\n"
   ],
   "metadata": {
    "collapsed": false,
    "pycharm": {
     "name": "#%%\n"
    }
   }
  }
 ],
 "metadata": {
  "kernelspec": {
   "display_name": "Python 3",
   "language": "python",
   "name": "python3"
  },
  "language_info": {
   "codemirror_mode": {
    "name": "ipython",
    "version": 2
   },
   "file_extension": ".py",
   "mimetype": "text/x-python",
   "name": "python",
   "nbconvert_exporter": "python",
   "pygments_lexer": "ipython2",
   "version": "2.7.6"
  }
 },
 "nbformat": 4,
 "nbformat_minor": 0
}